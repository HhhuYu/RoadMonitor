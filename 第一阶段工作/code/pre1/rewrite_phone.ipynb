{
 "cells": [
  {
   "cell_type": "code",
   "execution_count": 9,
   "metadata": {
    "ExecuteTime": {
     "end_time": "2020-05-25T13:26:39.722427Z",
     "start_time": "2020-05-25T13:26:39.718436Z"
    }
   },
   "outputs": [],
   "source": [
    "import numpy as np\n",
    "import pandas as pd"
   ]
  },
  {
   "cell_type": "code",
   "execution_count": 10,
   "metadata": {
    "ExecuteTime": {
     "end_time": "2020-05-25T13:26:40.052557Z",
     "start_time": "2020-05-25T13:26:39.724422Z"
    }
   },
   "outputs": [
    {
     "name": "stdout",
     "output_type": "stream",
     "text": [
      "(183576, 13)\n"
     ]
    }
   ],
   "source": [
    "file_path='../data/7-12/d37e6/d37e6_2_sorted_part3.csv'\n",
    "str_temp=file_path[:-4]\n",
    "data = pd.read_csv(file_path,encoding='utf-8')\n",
    "print(data.shape)"
   ]
  },
  {
   "cell_type": "code",
   "execution_count": 11,
   "metadata": {
    "ExecuteTime": {
     "end_time": "2020-05-25T13:26:40.068558Z",
     "start_time": "2020-05-25T13:26:40.054538Z"
    }
   },
   "outputs": [],
   "source": [
    "data_new={}\n",
    "delta=-16\n",
    "data_new['time']=(data['time']-data['time'][0])/1000+delta# delta is to fit the camera time\n",
    "data_new['date']=data['key']\n",
    "data_new['x']=data['x']\n",
    "data_new['y']=data['y']\n",
    "data_new['z']=data['z']\n",
    "data_new['r']=data['result']\n",
    "data_new['latitude']=data['latitude']\n",
    "data_new['longitude']=data['longitude']\n",
    "data_new['anomaly']=0"
   ]
  },
  {
   "cell_type": "code",
   "execution_count": 12,
   "metadata": {
    "ExecuteTime": {
     "end_time": "2020-05-25T13:26:40.083617Z",
     "start_time": "2020-05-25T13:26:40.070495Z"
    }
   },
   "outputs": [],
   "source": [
    "data_new=pd.DataFrame(data_new)"
   ]
  },
  {
   "cell_type": "code",
   "execution_count": 13,
   "metadata": {
    "ExecuteTime": {
     "end_time": "2020-05-25T13:26:46.989419Z",
     "start_time": "2020-05-25T13:26:40.085455Z"
    }
   },
   "outputs": [
    {
     "name": "stdout",
     "output_type": "stream",
     "text": [
      "ok\n"
     ]
    }
   ],
   "source": [
    "#d37e6-----586\n",
    "#因为发现每经过一个相机文件，手机时间较相机慢1s，所以引入校正参数\n",
    "delta2=-1.2\n",
    "low,high=0,0\n",
    "idx=1\n",
    "for i in range(data_new.shape[0]):\n",
    "    if (data_new['time'][i]>=0) and (low==0):\n",
    "        low=i\n",
    "    if (data_new['time'][i]>=(963.9554+delta2)) and (high==0):\n",
    "        high=i\n",
    "    if (low>0) and (high>0):\n",
    "        name=str_temp+'_seg'+ str(idx) +'.csv'\n",
    "        data_new[low:high].to_csv(name,index=False)\n",
    "        low,high=i,0\n",
    "        idx+=1\n",
    "        data_new['time']-=(963.9554+delta2)\n",
    "name=str_temp+'_seg'+ str(idx) +'.csv'\n",
    "data_new[low:-1].to_csv(name,index=False)\n",
    "print('ok')"
   ]
  },
  {
   "cell_type": "code",
   "execution_count": 14,
   "metadata": {
    "ExecuteTime": {
     "end_time": "2020-05-25T13:26:46.995409Z",
     "start_time": "2020-05-25T13:26:46.990418Z"
    }
   },
   "outputs": [
    {
     "data": {
      "text/plain": [
       "\"#d37e6-----588\\n#因为发现每经过一个相机文件，手机时间较相机慢1s，所以引入校正参数\\ndelta2=-1\\nlow,high=0,0\\nidx = 1\\nfor i in range(data_new.shape[0]):\\n    if (data_new['time'][i]>=0) and (low==0):\\n        low=i\\n    if idx == 1:\\n        if (data_new['time'][i]>861) and (high==0):\\n            high=i\\n            while(data_new['time'][i]<=963.9554+delta2):#跳过间断处\\n                i+=1 \\n        if (low>0) and (high>0):\\n            name=str_temp+'_seg'+ str(idx) +'.csv'\\n            data_new[low:high].to_csv(name,index=False)\\n            low,high=i,0\\n            idx+=1\\n            data_new['time']-=(963.9554+delta2)\\n    else:\\n        if (data_new['time'][i]>=(963.9554+delta2)) and (high==0):\\n            high=i\\n        if (low>0) and (high>0):\\n            name=str_temp+'_seg'+ str(idx) +'.csv'\\n            data_new[low:high].to_csv(name,index=False)\\n            low,high=i,0\\n            idx+=1\\n            data_new['time']-=(963.9554+delta2)\\n#GH050588  \\nname=str_temp+'_seg'+ str(idx) +'.csv'\\ndata_new[low:-1].to_csv(name,index=False)\\nprint('ok')\""
      ]
     },
     "execution_count": 14,
     "metadata": {},
     "output_type": "execute_result"
    }
   ],
   "source": [
    "'''#d37e6-----588\n",
    "#因为发现每经过一个相机文件，手机时间较相机慢1s，所以引入校正参数\n",
    "delta2=-1\n",
    "low,high=0,0\n",
    "idx = 1\n",
    "for i in range(data_new.shape[0]):\n",
    "    if (data_new['time'][i]>=0) and (low==0):\n",
    "        low=i\n",
    "    if idx == 1:\n",
    "        if (data_new['time'][i]>861) and (high==0):\n",
    "            high=i\n",
    "            while(data_new['time'][i]<=963.9554+delta2):#跳过间断处\n",
    "                i+=1 \n",
    "        if (low>0) and (high>0):\n",
    "            name=str_temp+'_seg'+ str(idx) +'.csv'\n",
    "            data_new[low:high].to_csv(name,index=False)\n",
    "            low,high=i,0\n",
    "            idx+=1\n",
    "            data_new['time']-=(963.9554+delta2)\n",
    "    else:\n",
    "        if (data_new['time'][i]>=(963.9554+delta2)) and (high==0):\n",
    "            high=i\n",
    "        if (low>0) and (high>0):\n",
    "            name=str_temp+'_seg'+ str(idx) +'.csv'\n",
    "            data_new[low:high].to_csv(name,index=False)\n",
    "            low,high=i,0\n",
    "            idx+=1\n",
    "            data_new['time']-=(963.9554+delta2)\n",
    "#GH050588  \n",
    "name=str_temp+'_seg'+ str(idx) +'.csv'\n",
    "data_new[low:-1].to_csv(name,index=False)\n",
    "print('ok')'''"
   ]
  },
  {
   "cell_type": "code",
   "execution_count": 15,
   "metadata": {
    "ExecuteTime": {
     "end_time": "2020-05-25T13:26:47.006411Z",
     "start_time": "2020-05-25T13:26:46.998398Z"
    }
   },
   "outputs": [
    {
     "data": {
      "text/plain": [
       "\"#19e80-----590\\n#d37e6-----590\\n#因为发现每经过一个相机文件，手机时间较相机慢1s，所以引入校正参数\\ndelta2=-1\\nlow,high=0,0\\nidx=1\\nfor i in range(data_new.shape[0]):\\n    if idx<=3:#GH10590-GH30590\\n        if (data_new['time'][i]>=0) and (low==0):\\n            low=i\\n        if (data_new['time'][i]>=(963.955416666656+delta2)) and (high==0):\\n            high=i\\n        if (low>0) and (high>0):\\n            name=str_temp+'_seg'+ str(idx) +'.csv'\\n            data_new[low:high].to_csv(name,index=False)\\n            low,high=i,0\\n            idx+=1\\n            data_new['time']-=(963.955416666656+delta2)\\n    elif idx==4:#GH40590\\n        if (data_new['time'][i]>=(840.834944444434+delta2)) and (high==0):\\n            high=i\\n        if (low>0) and (high>0):\\n            name=str_temp+'_seg'+ str(idx) +'.csv'\\n            data_new[low:high].to_csv(name,index=False)\\n            low,high=i,0\\n            idx+=1\\n            data_new['time']-=(840.834944444434+delta2)\\n#GH050590   \\nname=str_temp+'_seg'+ str(idx) +'.csv'\\ndata_new[low:-1].to_csv(name,index=False)\\nprint('ok')\""
      ]
     },
     "execution_count": 15,
     "metadata": {},
     "output_type": "execute_result"
    }
   ],
   "source": [
    "'''#19e80-----590\n",
    "#d37e6-----590\n",
    "#因为发现每经过一个相机文件，手机时间较相机慢1s，所以引入校正参数\n",
    "delta2=-1\n",
    "low,high=0,0\n",
    "idx=1\n",
    "for i in range(data_new.shape[0]):\n",
    "    if idx<=3:#GH10590-GH30590\n",
    "        if (data_new['time'][i]>=0) and (low==0):\n",
    "            low=i\n",
    "        if (data_new['time'][i]>=(963.955416666656+delta2)) and (high==0):\n",
    "            high=i\n",
    "        if (low>0) and (high>0):\n",
    "            name=str_temp+'_seg'+ str(idx) +'.csv'\n",
    "            data_new[low:high].to_csv(name,index=False)\n",
    "            low,high=i,0\n",
    "            idx+=1\n",
    "            data_new['time']-=(963.955416666656+delta2)\n",
    "    elif idx==4:#GH40590\n",
    "        if (data_new['time'][i]>=(840.834944444434+delta2)) and (high==0):\n",
    "            high=i\n",
    "        if (low>0) and (high>0):\n",
    "            name=str_temp+'_seg'+ str(idx) +'.csv'\n",
    "            data_new[low:high].to_csv(name,index=False)\n",
    "            low,high=i,0\n",
    "            idx+=1\n",
    "            data_new['time']-=(840.834944444434+delta2)\n",
    "#GH050590   \n",
    "name=str_temp+'_seg'+ str(idx) +'.csv'\n",
    "data_new[low:-1].to_csv(name,index=False)\n",
    "print('ok')'''"
   ]
  },
  {
   "cell_type": "code",
   "execution_count": 16,
   "metadata": {
    "ExecuteTime": {
     "end_time": "2020-05-25T13:26:47.018343Z",
     "start_time": "2020-05-25T13:26:47.008370Z"
    }
   },
   "outputs": [
    {
     "data": {
      "text/plain": [
       "\"\\nlow,high=0,0\\nidx=1\\nfor i in range(data_new.shape[0]):\\n    if (data_new['time'][i]>=0) and (low==0):\\n        low=i\\n    if (data_new['time'][i]>=963.955529850745) and (high==0):\\n        high=i\\n    if (low>0) and (high>0):\\n        name=str_temp+'_seg'+ str(idx) +'.csv'\\n        data_new[low:high].to_csv(name,index=False)\\n        low,high=i,0\\n        idx+=1\\n        data_new['time']-=963.955529850745\\nname=str_temp+'_seg'+ str(idx) +'.csv'\\ndata_new[low:-1].to_csv(name,index=False)\\nprint('ok')\\n\""
      ]
     },
     "execution_count": 16,
     "metadata": {},
     "output_type": "execute_result"
    }
   ],
   "source": [
    "#19e80-----594\n",
    "'''\n",
    "low,high=0,0\n",
    "idx=1\n",
    "for i in range(data_new.shape[0]):\n",
    "    if (data_new['time'][i]>=0) and (low==0):\n",
    "        low=i\n",
    "    if (data_new['time'][i]>=963.955529850745) and (high==0):\n",
    "        high=i\n",
    "    if (low>0) and (high>0):\n",
    "        name=str_temp+'_seg'+ str(idx) +'.csv'\n",
    "        data_new[low:high].to_csv(name,index=False)\n",
    "        low,high=i,0\n",
    "        idx+=1\n",
    "        data_new['time']-=963.955529850745\n",
    "name=str_temp+'_seg'+ str(idx) +'.csv'\n",
    "data_new[low:-1].to_csv(name,index=False)\n",
    "print('ok')\n",
    "'''"
   ]
  }
 ],
 "metadata": {
  "hide_input": false,
  "kernelspec": {
   "display_name": "Python 3",
   "language": "python",
   "name": "python3"
  },
  "language_info": {
   "codemirror_mode": {
    "name": "ipython",
    "version": 3
   },
   "file_extension": ".py",
   "mimetype": "text/x-python",
   "name": "python",
   "nbconvert_exporter": "python",
   "pygments_lexer": "ipython3",
   "version": "3.7.6"
  },
  "toc": {
   "base_numbering": 1,
   "nav_menu": {},
   "number_sections": true,
   "sideBar": true,
   "skip_h1_title": false,
   "title_cell": "Table of Contents",
   "title_sidebar": "Contents",
   "toc_cell": false,
   "toc_position": {},
   "toc_section_display": true,
   "toc_window_display": false
  },
  "varInspector": {
   "cols": {
    "lenName": 16,
    "lenType": 16,
    "lenVar": 40
   },
   "kernels_config": {
    "python": {
     "delete_cmd_postfix": "",
     "delete_cmd_prefix": "del ",
     "library": "var_list.py",
     "varRefreshCmd": "print(var_dic_list())"
    },
    "r": {
     "delete_cmd_postfix": ") ",
     "delete_cmd_prefix": "rm(",
     "library": "var_list.r",
     "varRefreshCmd": "cat(var_dic_list()) "
    }
   },
   "types_to_exclude": [
    "module",
    "function",
    "builtin_function_or_method",
    "instance",
    "_Feature"
   ],
   "window_display": false
  }
 },
 "nbformat": 4,
 "nbformat_minor": 2
}
