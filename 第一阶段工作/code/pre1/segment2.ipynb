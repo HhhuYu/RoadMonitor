{
 "cells": [
  {
   "cell_type": "code",
   "execution_count": 6,
   "metadata": {},
   "outputs": [],
   "source": [
    "import numpy as np\n",
    "import pandas as pd"
   ]
  },
  {
   "cell_type": "code",
   "execution_count": 7,
   "metadata": {},
   "outputs": [
    {
     "name": "stdout",
     "output_type": "stream",
     "text": [
      "(198886, 9)\n"
     ]
    }
   ],
   "source": [
    "file_path='data/7-12/19e80_2_part5_new.csv'\n",
    "str_temp=file_path[:-4]\n",
    "data = pd.read_csv(file_path,encoding='utf-8')\n",
    "print(data.shape)"
   ]
  },
  {
   "cell_type": "code",
   "execution_count": 8,
   "metadata": {},
   "outputs": [],
   "source": [
    "low,high=0,0\n",
    "idx=1\n",
    "for i in range(data.shape[0]):\n",
    "    if (data['time'][i]>=0) and (low==0):\n",
    "        low=i\n",
    "    if (data['time'][i]>=963.955416666656) and (high==0):\n",
    "        high=i\n",
    "    if (low>0) and (high>0):\n",
    "        name=str_temp+'_seg'+ str(idx) +'.csv'\n",
    "        data[low:high].to_csv(name,index=False)\n",
    "        low,high=i,0\n",
    "        idx+=1\n",
    "        data['time']-=963.955416666656\n",
    "\n",
    "name=str_temp+'_seg'+ str(idx) +'.csv'\n",
    "data[low:-1].to_csv(name,index=False)\n",
    "print('ok')"
   ]
  }
 ],
 "metadata": {
  "kernelspec": {
   "display_name": "Python 3",
   "language": "python",
   "name": "python3"
  },
  "language_info": {
   "codemirror_mode": {
    "name": "ipython",
    "version": 3
   },
   "file_extension": ".py",
   "mimetype": "text/x-python",
   "name": "python",
   "nbconvert_exporter": "python",
   "pygments_lexer": "ipython3",
   "version": "3.7.2"
  }
 },
 "nbformat": 4,
 "nbformat_minor": 2
}
