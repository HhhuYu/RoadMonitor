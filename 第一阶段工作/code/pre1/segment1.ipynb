{
 "cells": [
  {
   "cell_type": "code",
   "execution_count": 1,
   "metadata": {},
   "outputs": [],
   "source": [
    "import numpy as np\n",
    "import pandas as pd"
   ]
  },
  {
   "cell_type": "code",
   "execution_count": 2,
   "metadata": {},
   "outputs": [
    {
     "name": "stdout",
     "output_type": "stream",
     "text": [
      "(537353, 13)\n"
     ]
    }
   ],
   "source": [
    "file_path='../data/7-12/0d6b9/0d6b9_2_sorted.csv'\n",
    "str_temp=file_path[:-4]\n",
    "data = pd.read_csv(file_path,encoding='utf-8')\n",
    "print(data.shape)"
   ]
  },
  {
   "cell_type": "code",
   "execution_count": 3,
   "metadata": {},
   "outputs": [
    {
     "name": "stdout",
     "output_type": "stream",
     "text": [
      "1562898721383\n",
      "300000\n"
     ]
    }
   ],
   "source": [
    "print(data['time'][0])\n",
    "delta_time=5 #5 minutes\n",
    "delta=delta_time*60*1000\n",
    "print(delta)"
   ]
  },
  {
   "cell_type": "code",
   "execution_count": 4,
   "metadata": {},
   "outputs": [
    {
     "name": "stdout",
     "output_type": "stream",
     "text": [
      "ok\n"
     ]
    }
   ],
   "source": [
    "low,high=0,0\n",
    "idx=1\n",
    "for i in range(data.shape[0]-1):\n",
    "    if (data['time'][i+1]-data['time'][i])>delta:\n",
    "        high=i+1\n",
    "        name=str_temp+'_part'+ str(idx) +'.csv'\n",
    "        data[low:high].to_csv(name,index=False)\n",
    "        low=i+1\n",
    "        idx+=1        \n",
    "print('ok')    "
   ]
  }
 ],
 "metadata": {
  "kernelspec": {
   "display_name": "Python 3",
   "language": "python",
   "name": "python3"
  },
  "language_info": {
   "codemirror_mode": {
    "name": "ipython",
    "version": 3
   },
   "file_extension": ".py",
   "mimetype": "text/x-python",
   "name": "python",
   "nbconvert_exporter": "python",
   "pygments_lexer": "ipython3",
   "version": "3.8.1"
  }
 },
 "nbformat": 4,
 "nbformat_minor": 2
}
