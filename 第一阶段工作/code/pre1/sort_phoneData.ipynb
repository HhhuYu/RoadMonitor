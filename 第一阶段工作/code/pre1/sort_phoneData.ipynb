{
 "cells": [
  {
   "cell_type": "code",
   "execution_count": 1,
   "metadata": {},
   "outputs": [],
   "source": [
    "import numpy as np\n",
    "import pandas as pd"
   ]
  },
  {
   "cell_type": "code",
   "execution_count": 2,
   "metadata": {},
   "outputs": [
    {
     "name": "stdout",
     "output_type": "stream",
     "text": [
      "(537353, 13)\n"
     ]
    }
   ],
   "source": [
    "file_path='../data/7-12/0d6b9/0d6b9_2.csv'\n",
    "str_temp=file_path[:-4]\n",
    "data = pd.read_csv(file_path,encoding='utf-8')\n",
    "print(data.shape)"
   ]
  },
  {
   "cell_type": "code",
   "execution_count": 3,
   "metadata": {},
   "outputs": [],
   "source": [
    "#sort by time\n",
    "data_arg=np.argsort(data['time'])"
   ]
  },
  {
   "cell_type": "code",
   "execution_count": 4,
   "metadata": {},
   "outputs": [],
   "source": [
    "data_new={}\n",
    "data_new['color']=data['color'][data_arg]\n",
    "data_new['latitude']=data['latitude'][data_arg]\n",
    "data_new['longitude']=data['longitude'][data_arg]\n",
    "data_new['gyroscopeX']=data['gyroscopeX'][data_arg]\n",
    "data_new['gyroscopeY']=data['gyroscopeY'][data_arg]\n",
    "data_new['gyroscopeZ']=data['gyroscopeZ'][data_arg]\n",
    "data_new['key']=data['key'][data_arg]\n",
    "data_new['result']=data['result'][data_arg]\n",
    "data_new['time']=data['time'][data_arg]\n",
    "data_new['username']=data['username'][data_arg]\n",
    "data_new['x']=data['x'][data_arg]\n",
    "data_new['y']=data['y'][data_arg]\n",
    "data_new['z']=data['z'][data_arg]"
   ]
  },
  {
   "cell_type": "code",
   "execution_count": 5,
   "metadata": {},
   "outputs": [],
   "source": [
    "data_new=pd.DataFrame(data_new)"
   ]
  },
  {
   "cell_type": "code",
   "execution_count": 6,
   "metadata": {},
   "outputs": [
    {
     "name": "stdout",
     "output_type": "stream",
     "text": [
      "ok\n"
     ]
    }
   ],
   "source": [
    "name=str_temp+'_sorted'+'.csv'\n",
    "data_new.to_csv(name,index=False)\n",
    "print('ok')"
   ]
  }
 ],
 "metadata": {
  "kernelspec": {
   "display_name": "Python 3",
   "language": "python",
   "name": "python3"
  },
  "language_info": {
   "codemirror_mode": {
    "name": "ipython",
    "version": 3
   },
   "file_extension": ".py",
   "mimetype": "text/x-python",
   "name": "python",
   "nbconvert_exporter": "python",
   "pygments_lexer": "ipython3",
   "version": "3.7.2"
  }
 },
 "nbformat": 4,
 "nbformat_minor": 2
}
